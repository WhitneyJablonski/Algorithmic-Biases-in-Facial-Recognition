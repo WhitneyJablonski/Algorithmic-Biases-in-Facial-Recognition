{
 "cells": [
  {
   "cell_type": "code",
   "execution_count": 69,
   "metadata": {
    "_cell_guid": "b1076dfc-b9ad-4769-8c92-a6c4dae69d19",
    "_uuid": "8f2839f25d086af736a60e9eeb907d3b93b6e0e5"
   },
   "outputs": [],
   "source": [
    "import numpy as np\n",
    "import pandas as pd\n",
    "import os\n",
    "import shutil\n",
    "import glob\n",
    "import pandas as pd\n",
    "import matplotlib.pyplot as plt\n",
    "import seaborn as sns\n",
    "\n",
    "from sklearn.model_selection import train_test_split\n",
    "from keras.preprocessing.image import ImageDataGenerator\n",
    "\n",
    "from sklearn.metrics import classification_report"
   ]
  },
  {
   "cell_type": "code",
   "execution_count": 70,
   "metadata": {
    "_cell_guid": "79c7e3d0-c299-4dcb-8224-4455121ee9b0",
    "_uuid": "d629ff2d2480ee46fbb7e2d37f6b5fab8052498a"
   },
   "outputs": [],
   "source": [
    "DATA_PATH = \"../data/UTKFace\"\n",
    "WEIGHTS_PATH = '../train_weight'\n",
    "\n",
    "IM_HEIGHT = IM_WIDTH = 198\n",
    "ID_GENDER_MAP = {0: 'male', 1: 'female'}\n",
    "GENDER_ID_MAP = dict((g, i) for i, g in ID_GENDER_MAP.items())\n",
    "ID_RACE_MAP = {0: 'white', 1: 'black', 2: 'asian', 3: 'indian', 4: 'others'}\n",
    "RACE_ID_MAP = dict((r, i) for i, r in ID_RACE_MAP.items())"
   ]
  },
  {
   "cell_type": "code",
   "execution_count": 71,
   "metadata": {
    "_uuid": "f82c1685a37d4e77022ff870cde57ea82f52c1a0"
   },
   "outputs": [],
   "source": [
    "def parse_filepath(filepath):\n",
    "    try:\n",
    "        path, filename = os.path.split(filepath)\n",
    "        filename, ext = os.path.splitext(filename)\n",
    "        age, gender, race, _ = filename.split(\"_\")\n",
    "        return int(age), ID_GENDER_MAP[int(gender)], ID_RACE_MAP[int(race)]\n",
    "    except Exception as e:\n",
    "        #print(filepath)\n",
    "        return None, None, None"
   ]
  },
  {
   "cell_type": "code",
   "execution_count": 72,
   "metadata": {
    "_uuid": "350a2ac4feb3fd7ed81fa6e1d2066f0fdb1d2009"
   },
   "outputs": [],
   "source": [
    "def list_files(dir):\n",
    "    r = []\n",
    "    for root, dirs, files in os.walk(dir):\n",
    "        for name in files:\n",
    "            r.append(os.path.join(root, name))\n",
    "    return r\n",
    "\n",
    "files = list_files(DATA_PATH)"
   ]
  },
  {
   "cell_type": "code",
   "execution_count": 73,
   "metadata": {
    "_uuid": "59892f1296870fca397e6aaa1888e551d739901c"
   },
   "outputs": [],
   "source": [
    "attributes = list(map(parse_filepath, files))"
   ]
  },
  {
   "cell_type": "code",
   "execution_count": 74,
   "metadata": {
    "_uuid": "527d33d9c883d6e45f1576152660ec2feb9be7cb"
   },
   "outputs": [
    {
     "data": {
      "text/html": [
       "<div>\n",
       "<style scoped>\n",
       "    .dataframe tbody tr th:only-of-type {\n",
       "        vertical-align: middle;\n",
       "    }\n",
       "\n",
       "    .dataframe tbody tr th {\n",
       "        vertical-align: top;\n",
       "    }\n",
       "\n",
       "    .dataframe thead th {\n",
       "        text-align: right;\n",
       "    }\n",
       "</style>\n",
       "<table border=\"1\" class=\"dataframe\">\n",
       "  <thead>\n",
       "    <tr style=\"text-align: right;\">\n",
       "      <th></th>\n",
       "      <th>age</th>\n",
       "      <th>gender</th>\n",
       "      <th>race</th>\n",
       "      <th>file</th>\n",
       "    </tr>\n",
       "  </thead>\n",
       "  <tbody>\n",
       "    <tr>\n",
       "      <th>0</th>\n",
       "      <td>82.0</td>\n",
       "      <td>male</td>\n",
       "      <td>asian</td>\n",
       "      <td>../data/UTKFace/82_0_2_20170111210110290.jpg.c...</td>\n",
       "    </tr>\n",
       "    <tr>\n",
       "      <th>1</th>\n",
       "      <td>32.0</td>\n",
       "      <td>female</td>\n",
       "      <td>asian</td>\n",
       "      <td>../data/UTKFace/32_1_2_20170116180211518.jpg.c...</td>\n",
       "    </tr>\n",
       "    <tr>\n",
       "      <th>2</th>\n",
       "      <td>21.0</td>\n",
       "      <td>male</td>\n",
       "      <td>others</td>\n",
       "      <td>../data/UTKFace/21_0_4_20170103225103768.jpg.c...</td>\n",
       "    </tr>\n",
       "    <tr>\n",
       "      <th>3</th>\n",
       "      <td>27.0</td>\n",
       "      <td>female</td>\n",
       "      <td>asian</td>\n",
       "      <td>../data/UTKFace/27_1_2_20170116171716287.jpg.c...</td>\n",
       "    </tr>\n",
       "    <tr>\n",
       "      <th>4</th>\n",
       "      <td>26.0</td>\n",
       "      <td>male</td>\n",
       "      <td>others</td>\n",
       "      <td>../data/UTKFace/26_0_4_20170117153355923.jpg.c...</td>\n",
       "    </tr>\n",
       "  </tbody>\n",
       "</table>\n",
       "</div>"
      ],
      "text/plain": [
       "    age  gender    race                                               file\n",
       "0  82.0    male   asian  ../data/UTKFace/82_0_2_20170111210110290.jpg.c...\n",
       "1  32.0  female   asian  ../data/UTKFace/32_1_2_20170116180211518.jpg.c...\n",
       "2  21.0    male  others  ../data/UTKFace/21_0_4_20170103225103768.jpg.c...\n",
       "3  27.0  female   asian  ../data/UTKFace/27_1_2_20170116171716287.jpg.c...\n",
       "4  26.0    male  others  ../data/UTKFace/26_0_4_20170117153355923.jpg.c..."
      ]
     },
     "execution_count": 74,
     "metadata": {},
     "output_type": "execute_result"
    }
   ],
   "source": [
    "df = pd.DataFrame(attributes)\n",
    "df['file'] = files\n",
    "df.columns = ['age', 'gender', 'race', 'file']\n",
    "df = df.dropna()\n",
    "df = df.drop_duplicates()\n",
    "df.head()"
   ]
  },
  {
   "cell_type": "markdown",
   "metadata": {
    "_uuid": "d18e6ecec2b0c063772349e57bb0769b4041868d"
   },
   "source": [
    "# Exploratory Analysis"
   ]
  },
  {
   "cell_type": "markdown",
   "metadata": {},
   "source": [
    "## Raw Data"
   ]
  },
  {
   "cell_type": "code",
   "execution_count": 75,
   "metadata": {
    "_uuid": "4931ac80da59c52f82a0b3a4562369ec55ef5b16"
   },
   "outputs": [
    {
     "data": {
      "image/png": "[encoded data removed]",
      "text/plain": [
       "<Figure size 432x288 with 1 Axes>"
      ]
     },
     "metadata": {
      "needs_background": "light"
     },
     "output_type": "display_data"
    }
   ],
   "source": [
    "x = pd.DataFrame(df.groupby(by=['race', 'gender'])['age'].count())\n",
    "x.reset_index(inplace=True)\n",
    "ax = sns.barplot(x=\"race\", y=\"age\", hue=\"gender\", data=x)"
   ]
  },
  {
   "cell_type": "code",
   "execution_count": 76,
   "metadata": {},
   "outputs": [
    {
     "data": {
      "image/png": "[encoded data removed]",
      "text/plain": [
       "<Figure size 432x288 with 1 Axes>"
      ]
     },
     "metadata": {
      "needs_background": "light"
     },
     "output_type": "display_data"
    }
   ],
   "source": [
    "sns.distplot(df['age'], bins = 8, kde=False);"
   ]
  },
  {
   "cell_type": "markdown",
   "metadata": {},
   "source": [
    "## Preprocessing\n",
    "### Create Baseline Dataset"
   ]
  },
  {
   "cell_type": "markdown",
   "metadata": {},
   "source": [
    "First we remove ages that are likely to make gender identification challenging."
   ]
  },
  {
   "cell_type": "code",
   "execution_count": 9,
   "metadata": {},
   "outputs": [],
   "source": [
    "df = df[(df['age'] > 10) & (df['age'] < 65)]"
   ]
  },
  {
   "cell_type": "markdown",
   "metadata": {},
   "source": [
    "Let's revisit the EDA using the baseline dataset.  This dataset (\"df\") will be used for our baseline model."
   ]
  },
  {
   "cell_type": "code",
   "execution_count": 10,
   "metadata": {},
   "outputs": [
    {
     "data": {
      "image/png": "[encoded data removed]",
      "text/plain": [
       "<Figure size 432x288 with 1 Axes>"
      ]
     },
     "metadata": {
      "needs_background": "light"
     },
     "output_type": "display_data"
    }
   ],
   "source": [
    "y = pd.DataFrame(df.groupby(by=['race', 'gender'])['age'].count())\n",
    "y.reset_index(inplace=True)\n",
    "ax = sns.barplot(x=\"race\", y=\"age\", hue=\"gender\", data=y)"
   ]
  },
  {
   "cell_type": "code",
   "execution_count": 11,
   "metadata": {},
   "outputs": [
    {
     "data": {
      "image/png": "[encoded data removed]",
      "text/plain": [
       "<Figure size 432x288 with 1 Axes>"
      ]
     },
     "metadata": {
      "needs_background": "light"
     },
     "output_type": "display_data"
    }
   ],
   "source": [
    "sns.distplot(df['age'], bins = 8, kde=False);"
   ]
  },
  {
   "cell_type": "markdown",
   "metadata": {},
   "source": [
    "### Create Ethnically Balanced Dataset (skip this part for now)"
   ]
  },
  {
   "cell_type": "markdown",
   "metadata": {},
   "source": [
    "The baseline dataset contain 18,529 images (see below)."
   ]
  },
  {
   "cell_type": "code",
   "execution_count": 12,
   "metadata": {},
   "outputs": [
    {
     "name": "stdout",
     "output_type": "stream",
     "text": [
      "Baseline dataset length:18529\n"
     ]
    }
   ],
   "source": [
    "base_len = len(df)\n",
    "print('Baseline dataset length:{0}'.format(base_len))"
   ]
  },
  {
   "cell_type": "markdown",
   "metadata": {},
   "source": [
    "There are 10 gender-ethnicity combinations. Let's create a balanced data set similar in size to the baseline dataset, but with equally distributed gender-ethniticy combinations each containing 1,852 images (see below)."
   ]
  },
  {
   "cell_type": "code",
   "execution_count": 13,
   "metadata": {},
   "outputs": [
    {
     "name": "stdout",
     "output_type": "stream",
     "text": [
      "Balanced subgroup length:1852\n"
     ]
    }
   ],
   "source": [
    "bal_subgrp_len = base_len // 10\n",
    "print('Balanced subgroup length:{0}'.format(bal_subgrp_len))"
   ]
  },
  {
   "cell_type": "markdown",
   "metadata": {},
   "source": [
    "To achive this, we will randomly downsample subgroups with more than 1,852 images, and upsample subgroups with fewer than 1,852 images."
   ]
  },
  {
   "cell_type": "code",
   "execution_count": 14,
   "metadata": {},
   "outputs": [
    {
     "ename": "SyntaxError",
     "evalue": "invalid syntax (<ipython-input-14-86271df2db6b>, line 10)",
     "output_type": "error",
     "traceback": [
      "\u001b[0;36m  File \u001b[0;32m\"<ipython-input-14-86271df2db6b>\"\u001b[0;36m, line \u001b[0;32m10\u001b[0m\n\u001b[0;31m    for i in range(x)\u001b[0m\n\u001b[0m                     ^\u001b[0m\n\u001b[0;31mSyntaxError\u001b[0m\u001b[0;31m:\u001b[0m invalid syntax\n"
     ]
    }
   ],
   "source": [
    "# get all gender-ethnicity combinations\n",
    "\n",
    "\n",
    "# create dataframe with equally distributed subgroups (without age consideration)\n",
    "def gen_df(df, rows, seed):\n",
    "    if len(df) > rows:\n",
    "        new_df = df.sample(n=rows,random_state=seed)\n",
    "    else:\n",
    "        x = len(df) // rows\n",
    "        for i in range(x)\n",
    "\n"
   ]
  },
  {
   "cell_type": "markdown",
   "metadata": {},
   "source": [
    "Let's revisit the EDA using the balanced dataset (\"df_bal\")."
   ]
  },
  {
   "cell_type": "code",
   "execution_count": 15,
   "metadata": {},
   "outputs": [
    {
     "data": {
      "image/png": "[encoded data removed]",
      "text/plain": [
       "<Figure size 432x288 with 1 Axes>"
      ]
     },
     "metadata": {
      "needs_background": "light"
     },
     "output_type": "display_data"
    }
   ],
   "source": [
    "y = pd.DataFrame(df.groupby(by=['race', 'gender'])['age'].count())\n",
    "y.reset_index(inplace=True)\n",
    "ax = sns.barplot(x=\"race\", y=\"age\", hue=\"gender\", data=y)"
   ]
  },
  {
   "cell_type": "code",
   "execution_count": 16,
   "metadata": {},
   "outputs": [
    {
     "data": {
      "image/png": "[encoded data removed]",
      "text/plain": [
       "<Figure size 432x288 with 1 Axes>"
      ]
     },
     "metadata": {
      "needs_background": "light"
     },
     "output_type": "display_data"
    }
   ],
   "source": [
    "sns.distplot(df['age'], bins = 8, kde=False);"
   ]
  },
  {
   "cell_type": "markdown",
   "metadata": {},
   "source": [
    "-----need to add  more here----"
   ]
  },
  {
   "cell_type": "markdown",
   "metadata": {},
   "source": [
    "# Custom Generator Function"
   ]
  },
  {
   "cell_type": "code",
   "execution_count": 77,
   "metadata": {
    "_uuid": "653d7b0737ffcaf69140e6de74e111e165ae808a"
   },
   "outputs": [],
   "source": [
    "from keras.utils import to_categorical\n",
    "from PIL import Image\n",
    "\n",
    "def get_data_generator(df, for_training, batch_size=16):\n",
    "    images, ages, races, genders, files = [], [], [], [], []\n",
    "    while True:\n",
    "        for i, r in df.iterrows():\n",
    "            file, age, race, gender = r['file'], r['age'], r['race'], r['gender']\n",
    "            \n",
    "            # image preprocessing\n",
    "            im = Image.open(file)\n",
    "            im = im.resize((IM_WIDTH, IM_HEIGHT))\n",
    "            im = np.array(im) / 255.0\n",
    "            images.append(im)\n",
    "            \n",
    "            ages.append(age)\n",
    "            races.append(race)\n",
    "            gender_id = GENDER_ID_MAP[gender]\n",
    "            genders.append(to_categorical(gender_id, 2))\n",
    "            files.append(file)\n",
    "            if len(images) >= batch_size:\n",
    "                if for_training:\n",
    "                    yield np.array(images), np.array(genders)\n",
    "                else:\n",
    "                     yield np.array(images), np.array(genders), np.array(races), np.array(ages), np.array(files)\n",
    "                images, ages, races, genders, files = [], [], [], [], []\n",
    "        if not for_training:\n",
    "            break"
   ]
  },
  {
   "cell_type": "markdown",
   "metadata": {},
   "source": [
    "# Custom Train Val Test Split Function"
   ]
  },
  {
   "cell_type": "code",
   "execution_count": 78,
   "metadata": {
    "_uuid": "ae92b82f031d82f1f68c2547c992e1ccbda4de21"
   },
   "outputs": [],
   "source": [
    "from keras.utils import to_categorical\n",
    "from PIL import Image\n",
    "from imgaug import augmenters as iaa\n",
    "import random\n",
    "\n",
    "def get_data_generator(df, for_training=True, batch_size=16, flip_add_noise=False, flip_p=.5):\n",
    "    images, ages, races, genders, files = [], [], [], [], []\n",
    "\n",
    "    #Function to flip and add noise\n",
    "    def flip_add_noise(input_img):\n",
    "        aug = iaa.CoarseDropout(0.02, size_percent=0.7, per_channel=0.7)\n",
    "        seq_object = iaa.Sequential([aug])\n",
    "        return seq_object.augment_images([np.fliplr(input_img)])[0].astype('float32')\n",
    "    \n",
    "    while True:\n",
    "        for i, r in df.iterrows():\n",
    "            file, age, race, gender = r['file'], r['age'], r['race'], r['gender']\n",
    "            \n",
    "            # image preprocessing\n",
    "            im = Image.open(file)\n",
    "            im = im.resize((IM_WIDTH, IM_HEIGHT))\n",
    "            \n",
    "            #Flipping and adding noise to random images\n",
    "            if flip_add_noise == True:\n",
    "                y=np.random.binomial(1, flip_p)\n",
    "                if y==1 :\n",
    "                    im=flip_add_noise(im)\n",
    "                else:\n",
    "                    im=im\n",
    "                \n",
    "            im = np.array(im) / 255.0\n",
    "            images.append(im)\n",
    "            \n",
    "            ages.append(age)\n",
    "            races.append(race)\n",
    "            gender_id = GENDER_ID_MAP[gender]\n",
    "            genders.append(to_categorical(gender_id, 2))\n",
    "            files.append(file)\n",
    "            if len(images) >= batch_size:\n",
    "                if for_training:\n",
    "                    yield np.array(images), np.array(genders)\n",
    "                else:\n",
    "                     yield np.array(images), np.array(genders), np.array(races), np.array(ages), np.array(files)\n",
    "                images, ages, races, genders, files = [], [], [], [], []\n",
    "        if not for_training:\n",
    "            break"
   ]
  },
  {
   "cell_type": "code",
   "execution_count": 79,
   "metadata": {},
   "outputs": [],
   "source": [
    "def train_val_test_split(df, test_size, val_size, random_state):\n",
    "\n",
    "    model_df , test_df = train_test_split(df, test_size = test_size, shuffle = True , random_state = random_state,\n",
    "                                                  stratify = df[['gender','race']])\n",
    "\n",
    "    train_df , val_df = train_test_split(model_df, test_size = val_size, shuffle = True , random_state = random_state,\n",
    "                                                  stratify = model_df[['gender','race']])\n",
    "\n",
    "    return train_df, val_df, test_df"
   ]
  },
  {
   "cell_type": "markdown",
   "metadata": {},
   "source": [
    "# Model"
   ]
  },
  {
   "cell_type": "code",
   "execution_count": 80,
   "metadata": {
    "_uuid": "ab00d8ecdf293d999eb0feeb1accb82d936937ff"
   },
   "outputs": [
    {
     "name": "stdout",
     "output_type": "stream",
     "text": [
      "_________________________________________________________________\n",
      "Layer (type)                 Output Shape              Param #   \n",
      "=================================================================\n",
      "input_7 (InputLayer)         (None, 198, 198, 3)       0         \n",
      "_________________________________________________________________\n",
      "conv2d_34 (Conv2D)           (None, 196, 196, 32)      896       \n",
      "_________________________________________________________________\n",
      "conv2d_35 (Conv2D)           (None, 194, 194, 64)      18496     \n",
      "_________________________________________________________________\n",
      "batch_normalization_28 (Batc (None, 194, 194, 64)      256       \n",
      "_________________________________________________________________\n",
      "max_pooling2d_28 (MaxPooling (None, 97, 97, 64)        0         \n",
      "_________________________________________________________________\n",
      "conv2d_36 (Conv2D)           (None, 95, 95, 96)        55392     \n",
      "_________________________________________________________________\n",
      "dropout_13 (Dropout)         (None, 95, 95, 96)        0         \n",
      "_________________________________________________________________\n",
      "batch_normalization_29 (Batc (None, 95, 95, 96)        384       \n",
      "_________________________________________________________________\n",
      "max_pooling2d_29 (MaxPooling (None, 47, 47, 96)        0         \n",
      "_________________________________________________________________\n",
      "conv2d_37 (Conv2D)           (None, 45, 45, 128)       110720    \n",
      "_________________________________________________________________\n",
      "batch_normalization_30 (Batc (None, 45, 45, 128)       512       \n",
      "_________________________________________________________________\n",
      "max_pooling2d_30 (MaxPooling (None, 22, 22, 128)       0         \n",
      "_________________________________________________________________\n",
      "conv2d_38 (Conv2D)           (None, 20, 20, 160)       184480    \n",
      "_________________________________________________________________\n",
      "dropout_14 (Dropout)         (None, 20, 20, 160)       0         \n",
      "_________________________________________________________________\n",
      "batch_normalization_31 (Batc (None, 20, 20, 160)       640       \n",
      "_________________________________________________________________\n",
      "max_pooling2d_31 (MaxPooling (None, 10, 10, 160)       0         \n",
      "_________________________________________________________________\n",
      "conv2d_39 (Conv2D)           (None, 8, 8, 192)         276672    \n",
      "_________________________________________________________________\n",
      "batch_normalization_32 (Batc (None, 8, 8, 192)         768       \n",
      "_________________________________________________________________\n",
      "max_pooling2d_32 (MaxPooling (None, 4, 4, 192)         0         \n",
      "_________________________________________________________________\n",
      "global_max_pooling2d_7 (Glob (None, 192)               0         \n",
      "_________________________________________________________________\n",
      "dense_7 (Dense)              (None, 128)               24704     \n",
      "_________________________________________________________________\n",
      "gender_output (Dense)        (None, 2)                 258       \n",
      "=================================================================\n",
      "Total params: 674,178\n",
      "Trainable params: 672,898\n",
      "Non-trainable params: 1,280\n",
      "_________________________________________________________________\n"
     ]
    }
   ],
   "source": [
    "from keras.layers import Input, Dense, BatchNormalization, Conv2D, MaxPool2D, GlobalMaxPool2D, Dropout\n",
    "from keras.optimizers import SGD\n",
    "from keras.models import Model\n",
    "\n",
    "def conv_block(inp, filters=32, bn=True, pool=True, drp_out=False):\n",
    "    _ = Conv2D(filters=filters, kernel_size=3, activation='relu')(inp)\n",
    "    if drp_out :\n",
    "        _ = Dropout(0.3)(_)\n",
    "    if bn:\n",
    "        _ = BatchNormalization()(_)\n",
    "    if pool:\n",
    "        _ = MaxPool2D()(_)\n",
    "    return _\n",
    "\n",
    "input_layer = Input(shape= (IM_HEIGHT, IM_WIDTH, 3))\n",
    "_ = conv_block(input_layer, filters=32, bn=False, pool=False)\n",
    "_ = conv_block(_, filters=32*2)\n",
    "_ = conv_block(_, filters=32*3, drp_out=True)\n",
    "_ = conv_block(_, filters=32*4)\n",
    "_ = conv_block(_, filters=32*5, drp_out=True)\n",
    "_ = conv_block(_, filters=32*6)\n",
    "bottleneck = GlobalMaxPool2D()(_)\n",
    "\n",
    "# for gender prediction\n",
    "_ = Dense(units=128, activation='relu')(bottleneck)\n",
    "gender_output = Dense(units=2, activation='softmax', name='gender_output')(_)\n",
    "\n",
    "model = Model(inputs=input_layer, outputs=[gender_output])\n",
    "model.compile(optimizer='rmsprop', \n",
    "              loss={'gender_output': 'categorical_crossentropy'},\n",
    "              metrics={'gender_output': 'accuracy'})\n",
    "model.summary()"
   ]
  },
  {
   "cell_type": "markdown",
   "metadata": {},
   "source": [
    "# Baseline Run"
   ]
  },
  {
   "cell_type": "code",
   "execution_count": 81,
   "metadata": {},
   "outputs": [],
   "source": [
    "run_type = 'baseline'\n",
    "epochs = 10"
   ]
  },
  {
   "cell_type": "code",
   "execution_count": 82,
   "metadata": {},
   "outputs": [
    {
     "data": {
      "text/plain": [
       "(14933, 6401, 2371)"
      ]
     },
     "execution_count": 82,
     "metadata": {},
     "output_type": "execute_result"
    }
   ],
   "source": [
    "train_df, val_df, test_df = train_val_test_split(df=df, test_size=0.1, val_size=0.3, random_state=44)\n",
    "\n",
    "len(train_df), len(val_df), len(test_df)"
   ]
  },
  {
   "cell_type": "code",
   "execution_count": 83,
   "metadata": {
    "_uuid": "e623d31c68be2b4f61c3f72749b23e1c694da729",
    "scrolled": false
   },
   "outputs": [
    {
     "name": "stdout",
     "output_type": "stream",
     "text": [
      "Epoch 1/10\n",
      " 15/233 [>.............................] - ETA: 2:36 - loss: 1.8892 - acc: 0.5333"
     ]
    },
    {
     "ename": "KeyboardInterrupt",
     "evalue": "",
     "output_type": "error",
     "traceback": [
      "\u001b[0;31m\u001b[0m",
      "\u001b[0;31mKeyboardInterrupt\u001b[0mTraceback (most recent call last)",
      "\u001b[0;32m<ipython-input-83-0404c9d34da2>\u001b[0m in \u001b[0;36m<module>\u001b[0;34m()\u001b[0m\n\u001b[1;32m     15\u001b[0m                     \u001b[0mcallbacks\u001b[0m\u001b[0;34m=\u001b[0m\u001b[0mcallbacks\u001b[0m\u001b[0;34m,\u001b[0m\u001b[0;34m\u001b[0m\u001b[0m\n\u001b[1;32m     16\u001b[0m                     \u001b[0mvalidation_data\u001b[0m\u001b[0;34m=\u001b[0m\u001b[0mvalid_gen\u001b[0m\u001b[0;34m,\u001b[0m\u001b[0;34m\u001b[0m\u001b[0m\n\u001b[0;32m---> 17\u001b[0;31m                     validation_steps=len(val_df)//valid_batch_size)\n\u001b[0m\u001b[1;32m     18\u001b[0m \u001b[0;34m\u001b[0m\u001b[0m\n",
      "\u001b[0;32m/usr/share/anaconda3/lib/python2.7/site-packages/keras/legacy/interfaces.pyc\u001b[0m in \u001b[0;36mwrapper\u001b[0;34m(*args, **kwargs)\u001b[0m\n\u001b[1;32m     89\u001b[0m                 warnings.warn('Update your `' + object_name + '` call to the ' +\n\u001b[1;32m     90\u001b[0m                               'Keras 2 API: ' + signature, stacklevel=2)\n\u001b[0;32m---> 91\u001b[0;31m             \u001b[0;32mreturn\u001b[0m \u001b[0mfunc\u001b[0m\u001b[0;34m(\u001b[0m\u001b[0;34m*\u001b[0m\u001b[0margs\u001b[0m\u001b[0;34m,\u001b[0m \u001b[0;34m**\u001b[0m\u001b[0mkwargs\u001b[0m\u001b[0;34m)\u001b[0m\u001b[0;34m\u001b[0m\u001b[0m\n\u001b[0m\u001b[1;32m     92\u001b[0m         \u001b[0mwrapper\u001b[0m\u001b[0;34m.\u001b[0m\u001b[0m_original_function\u001b[0m \u001b[0;34m=\u001b[0m \u001b[0mfunc\u001b[0m\u001b[0;34m\u001b[0m\u001b[0m\n\u001b[1;32m     93\u001b[0m         \u001b[0;32mreturn\u001b[0m \u001b[0mwrapper\u001b[0m\u001b[0;34m\u001b[0m\u001b[0m\n",
      "\u001b[0;32m/usr/share/anaconda3/lib/python2.7/site-packages/keras/engine/training.pyc\u001b[0m in \u001b[0;36mfit_generator\u001b[0;34m(self, generator, steps_per_epoch, epochs, verbose, callbacks, validation_data, validation_steps, class_weight, max_queue_size, workers, use_multiprocessing, shuffle, initial_epoch)\u001b[0m\n\u001b[1;32m   1416\u001b[0m             \u001b[0muse_multiprocessing\u001b[0m\u001b[0;34m=\u001b[0m\u001b[0muse_multiprocessing\u001b[0m\u001b[0;34m,\u001b[0m\u001b[0;34m\u001b[0m\u001b[0m\n\u001b[1;32m   1417\u001b[0m             \u001b[0mshuffle\u001b[0m\u001b[0;34m=\u001b[0m\u001b[0mshuffle\u001b[0m\u001b[0;34m,\u001b[0m\u001b[0;34m\u001b[0m\u001b[0m\n\u001b[0;32m-> 1418\u001b[0;31m             initial_epoch=initial_epoch)\n\u001b[0m\u001b[1;32m   1419\u001b[0m \u001b[0;34m\u001b[0m\u001b[0m\n\u001b[1;32m   1420\u001b[0m     \u001b[0;34m@\u001b[0m\u001b[0minterfaces\u001b[0m\u001b[0;34m.\u001b[0m\u001b[0mlegacy_generator_methods_support\u001b[0m\u001b[0;34m\u001b[0m\u001b[0m\n",
      "\u001b[0;32m/usr/share/anaconda3/lib/python2.7/site-packages/keras/engine/training_generator.pyc\u001b[0m in \u001b[0;36mfit_generator\u001b[0;34m(model, generator, steps_per_epoch, epochs, verbose, callbacks, validation_data, validation_steps, class_weight, max_queue_size, workers, use_multiprocessing, shuffle, initial_epoch)\u001b[0m\n\u001b[1;32m    215\u001b[0m                 outs = model.train_on_batch(x, y,\n\u001b[1;32m    216\u001b[0m                                             \u001b[0msample_weight\u001b[0m\u001b[0;34m=\u001b[0m\u001b[0msample_weight\u001b[0m\u001b[0;34m,\u001b[0m\u001b[0;34m\u001b[0m\u001b[0m\n\u001b[0;32m--> 217\u001b[0;31m                                             class_weight=class_weight)\n\u001b[0m\u001b[1;32m    218\u001b[0m \u001b[0;34m\u001b[0m\u001b[0m\n\u001b[1;32m    219\u001b[0m                 \u001b[0mouts\u001b[0m \u001b[0;34m=\u001b[0m \u001b[0mto_list\u001b[0m\u001b[0;34m(\u001b[0m\u001b[0mouts\u001b[0m\u001b[0;34m)\u001b[0m\u001b[0;34m\u001b[0m\u001b[0m\n",
      "\u001b[0;32m/usr/share/anaconda3/lib/python2.7/site-packages/keras/engine/training.pyc\u001b[0m in \u001b[0;36mtrain_on_batch\u001b[0;34m(self, x, y, sample_weight, class_weight)\u001b[0m\n\u001b[1;32m   1215\u001b[0m             \u001b[0mins\u001b[0m \u001b[0;34m=\u001b[0m \u001b[0mx\u001b[0m \u001b[0;34m+\u001b[0m \u001b[0my\u001b[0m \u001b[0;34m+\u001b[0m \u001b[0msample_weights\u001b[0m\u001b[0;34m\u001b[0m\u001b[0m\n\u001b[1;32m   1216\u001b[0m         \u001b[0mself\u001b[0m\u001b[0;34m.\u001b[0m\u001b[0m_make_train_function\u001b[0m\u001b[0;34m(\u001b[0m\u001b[0;34m)\u001b[0m\u001b[0;34m\u001b[0m\u001b[0m\n\u001b[0;32m-> 1217\u001b[0;31m         \u001b[0moutputs\u001b[0m \u001b[0;34m=\u001b[0m \u001b[0mself\u001b[0m\u001b[0;34m.\u001b[0m\u001b[0mtrain_function\u001b[0m\u001b[0;34m(\u001b[0m\u001b[0mins\u001b[0m\u001b[0;34m)\u001b[0m\u001b[0;34m\u001b[0m\u001b[0m\n\u001b[0m\u001b[1;32m   1218\u001b[0m         \u001b[0;32mreturn\u001b[0m \u001b[0munpack_singleton\u001b[0m\u001b[0;34m(\u001b[0m\u001b[0moutputs\u001b[0m\u001b[0;34m)\u001b[0m\u001b[0;34m\u001b[0m\u001b[0m\n\u001b[1;32m   1219\u001b[0m \u001b[0;34m\u001b[0m\u001b[0m\n",
      "\u001b[0;32m/usr/share/anaconda3/lib/python2.7/site-packages/keras/backend/tensorflow_backend.pyc\u001b[0m in \u001b[0;36m__call__\u001b[0;34m(self, inputs)\u001b[0m\n\u001b[1;32m   2713\u001b[0m                 \u001b[0;32mreturn\u001b[0m \u001b[0mself\u001b[0m\u001b[0;34m.\u001b[0m\u001b[0m_legacy_call\u001b[0m\u001b[0;34m(\u001b[0m\u001b[0minputs\u001b[0m\u001b[0;34m)\u001b[0m\u001b[0;34m\u001b[0m\u001b[0m\n\u001b[1;32m   2714\u001b[0m \u001b[0;34m\u001b[0m\u001b[0m\n\u001b[0;32m-> 2715\u001b[0;31m             \u001b[0;32mreturn\u001b[0m \u001b[0mself\u001b[0m\u001b[0;34m.\u001b[0m\u001b[0m_call\u001b[0m\u001b[0;34m(\u001b[0m\u001b[0minputs\u001b[0m\u001b[0;34m)\u001b[0m\u001b[0;34m\u001b[0m\u001b[0m\n\u001b[0m\u001b[1;32m   2716\u001b[0m         \u001b[0;32melse\u001b[0m\u001b[0;34m:\u001b[0m\u001b[0;34m\u001b[0m\u001b[0m\n\u001b[1;32m   2717\u001b[0m             \u001b[0;32mif\u001b[0m \u001b[0mpy_any\u001b[0m\u001b[0;34m(\u001b[0m\u001b[0mis_tensor\u001b[0m\u001b[0;34m(\u001b[0m\u001b[0mx\u001b[0m\u001b[0;34m)\u001b[0m \u001b[0;32mfor\u001b[0m \u001b[0mx\u001b[0m \u001b[0;32min\u001b[0m \u001b[0minputs\u001b[0m\u001b[0;34m)\u001b[0m\u001b[0;34m:\u001b[0m\u001b[0;34m\u001b[0m\u001b[0m\n",
      "\u001b[0;32m/usr/share/anaconda3/lib/python2.7/site-packages/keras/backend/tensorflow_backend.pyc\u001b[0m in \u001b[0;36m_call\u001b[0;34m(self, inputs)\u001b[0m\n\u001b[1;32m   2673\u001b[0m             \u001b[0mfetched\u001b[0m \u001b[0;34m=\u001b[0m \u001b[0mself\u001b[0m\u001b[0;34m.\u001b[0m\u001b[0m_callable_fn\u001b[0m\u001b[0;34m(\u001b[0m\u001b[0;34m*\u001b[0m\u001b[0marray_vals\u001b[0m\u001b[0;34m,\u001b[0m \u001b[0mrun_metadata\u001b[0m\u001b[0;34m=\u001b[0m\u001b[0mself\u001b[0m\u001b[0;34m.\u001b[0m\u001b[0mrun_metadata\u001b[0m\u001b[0;34m)\u001b[0m\u001b[0;34m\u001b[0m\u001b[0m\n\u001b[1;32m   2674\u001b[0m         \u001b[0;32melse\u001b[0m\u001b[0;34m:\u001b[0m\u001b[0;34m\u001b[0m\u001b[0m\n\u001b[0;32m-> 2675\u001b[0;31m             \u001b[0mfetched\u001b[0m \u001b[0;34m=\u001b[0m \u001b[0mself\u001b[0m\u001b[0;34m.\u001b[0m\u001b[0m_callable_fn\u001b[0m\u001b[0;34m(\u001b[0m\u001b[0;34m*\u001b[0m\u001b[0marray_vals\u001b[0m\u001b[0;34m)\u001b[0m\u001b[0;34m\u001b[0m\u001b[0m\n\u001b[0m\u001b[1;32m   2676\u001b[0m         \u001b[0;32mreturn\u001b[0m \u001b[0mfetched\u001b[0m\u001b[0;34m[\u001b[0m\u001b[0;34m:\u001b[0m\u001b[0mlen\u001b[0m\u001b[0;34m(\u001b[0m\u001b[0mself\u001b[0m\u001b[0;34m.\u001b[0m\u001b[0moutputs\u001b[0m\u001b[0;34m)\u001b[0m\u001b[0;34m]\u001b[0m\u001b[0;34m\u001b[0m\u001b[0m\n\u001b[1;32m   2677\u001b[0m \u001b[0;34m\u001b[0m\u001b[0m\n",
      "\u001b[0;32m/usr/share/anaconda3/lib/python2.7/site-packages/tensorflow/python/client/session.pyc\u001b[0m in \u001b[0;36m__call__\u001b[0;34m(self, *args, **kwargs)\u001b[0m\n\u001b[1;32m   1437\u001b[0m           ret = tf_session.TF_SessionRunCallable(\n\u001b[1;32m   1438\u001b[0m               \u001b[0mself\u001b[0m\u001b[0;34m.\u001b[0m\u001b[0m_session\u001b[0m\u001b[0;34m.\u001b[0m\u001b[0m_session\u001b[0m\u001b[0;34m,\u001b[0m \u001b[0mself\u001b[0m\u001b[0;34m.\u001b[0m\u001b[0m_handle\u001b[0m\u001b[0;34m,\u001b[0m \u001b[0margs\u001b[0m\u001b[0;34m,\u001b[0m \u001b[0mstatus\u001b[0m\u001b[0;34m,\u001b[0m\u001b[0;34m\u001b[0m\u001b[0m\n\u001b[0;32m-> 1439\u001b[0;31m               run_metadata_ptr)\n\u001b[0m\u001b[1;32m   1440\u001b[0m         \u001b[0;32mif\u001b[0m \u001b[0mrun_metadata\u001b[0m\u001b[0;34m:\u001b[0m\u001b[0;34m\u001b[0m\u001b[0m\n\u001b[1;32m   1441\u001b[0m           \u001b[0mproto_data\u001b[0m \u001b[0;34m=\u001b[0m \u001b[0mtf_session\u001b[0m\u001b[0;34m.\u001b[0m\u001b[0mTF_GetBuffer\u001b[0m\u001b[0;34m(\u001b[0m\u001b[0mrun_metadata_ptr\u001b[0m\u001b[0;34m)\u001b[0m\u001b[0;34m\u001b[0m\u001b[0m\n",
      "\u001b[0;31mKeyboardInterrupt\u001b[0m: "
     ]
    }
   ],
   "source": [
    "from keras.callbacks import ModelCheckpoint\n",
    "\n",
    "batch_size = 64\n",
    "valid_batch_size = 64\n",
    "train_gen = get_data_generator(train_df, for_training=True, batch_size=batch_size,flip_add_noise=False, flip_p=.5)\n",
    "valid_gen = get_data_generator(val_df, for_training=True, batch_size=valid_batch_size,flip_add_noise=False, flip_p=.5)\n",
    "\n",
    "callbacks = [\n",
    "    ModelCheckpoint(\"./model_checkpoint\", monitor='val_loss')\n",
    "]\n",
    "\n",
    "history = model.fit_generator(train_gen,\n",
    "                    steps_per_epoch=len(train_df)//batch_size,\n",
    "                    epochs=epochs,\n",
    "                    callbacks=callbacks,\n",
    "                    validation_data=valid_gen,\n",
    "                    validation_steps=len(val_df)//valid_batch_size)\n",
    "                    "
   ]
  },
  {
   "cell_type": "code",
   "execution_count": 32,
   "metadata": {
    "_uuid": "4df916174f1968266afc17988e4bb02cf1cccca0"
   },
   "outputs": [],
   "source": [
    "model.save_weights('train_weight/' + run_type + '_' + str(epochs) + '_epochs.w')"
   ]
  },
  {
   "cell_type": "code",
   "execution_count": 26,
   "metadata": {},
   "outputs": [
    {
     "data": {
      "text/plain": [
       "'/jupyteruser/41320362/Algorithmic-Biases-in-Facial-Recognition'"
      ]
     },
     "execution_count": 26,
     "metadata": {},
     "output_type": "execute_result"
    }
   ],
   "source": [
    "#model.load_weights(folder + '/cropped_conv_gender_epochs10_binary.w')\n",
    "os.getcwd()"
   ]
  },
  {
   "cell_type": "code",
   "execution_count": 33,
   "metadata": {
    "_uuid": "5f764bc8c13608a9777e4dc63e00275d243570c2"
   },
   "outputs": [
    {
     "data": {
      "image/png": "[encoded data removed]",
      "text/plain": [
       "<Figure size 1440x360 with 2 Axes>"
      ]
     },
     "metadata": {
      "needs_background": "light"
     },
     "output_type": "display_data"
    }
   ],
   "source": [
    "def  plot_train_history(history):\n",
    "    fig, axes = plt.subplots(1, 2, figsize=(20, 5))\n",
    "    \n",
    "    axes[0].plot(history.history['acc'], label='Train accuracy')\n",
    "    axes[0].plot(history.history['val_acc'], label='Val accuracy')\n",
    "    axes[0].set_xlabel('Epochs')\n",
    "    axes[0].legend()\n",
    "\n",
    "    axes[1].plot(history.history['loss'], label='Training loss')\n",
    "    axes[1].plot(history.history['val_loss'], label='Validation loss')\n",
    "    axes[1].set_xlabel('Epochs')\n",
    "    axes[1].legend()\n",
    "\n",
    "plot_train_history(history)"
   ]
  },
  {
   "cell_type": "code",
   "execution_count": 34,
   "metadata": {},
   "outputs": [],
   "source": [
    "test_gen = get_data_generator(test_df, for_training=False, batch_size=128)\n",
    "true_list = []\n",
    "pred_list = []\n",
    "race_list = []\n",
    "age_list  = []\n",
    "file_list = []\n",
    "for i, batch in enumerate(test_gen):\n",
    "    batch_pred = model.predict_on_batch(batch[0]).tolist()\n",
    "    batch_true = batch[1].tolist()\n",
    "    batch_race = batch[2].tolist()\n",
    "    batch_age  = batch[3].tolist()\n",
    "    batch_file = batch[4].tolist()    \n",
    "\n",
    "    for t in batch_true:\n",
    "        true_list.append(t)\n",
    "    for p in batch_pred:\n",
    "        pred_list.append(p)\n",
    "    for r in batch_race:\n",
    "        race_list.append(r)\n",
    "    for a in batch_age:\n",
    "        age_list.append(a)        \n",
    "    for f in batch_file:\n",
    "        file_list.append(f)          "
   ]
  },
  {
   "cell_type": "code",
   "execution_count": 35,
   "metadata": {},
   "outputs": [],
   "source": [
    "gender_true = np.array(true_list).argmax(axis=-1)\n",
    "gender_pred = np.array(pred_list).argmax(axis=-1)\n",
    "races = np.array(race_list)\n",
    "ages = np.array(age_list)\n",
    "files = np.array(file_list)"
   ]
  },
  {
   "cell_type": "code",
   "execution_count": 36,
   "metadata": {},
   "outputs": [],
   "source": [
    "df_preds = pd.DataFrame(list(zip(races, gender_true, gender_pred, ages, files)), \n",
    "                        columns=['race','gender_true','gender_pred','age','file'])"
   ]
  },
  {
   "cell_type": "code",
   "execution_count": 18,
   "metadata": {},
   "outputs": [],
   "source": [
    "unique_races = df_preds['race'].unique()"
   ]
  },
  {
   "cell_type": "code",
   "execution_count": 19,
   "metadata": {},
   "outputs": [
    {
     "name": "stdout",
     "output_type": "stream",
     "text": [
      "\n",
      "Classification report for gender where race = white\n",
      "              precision    recall  f1-score   support\n",
      "\n",
      "           0       0.85      0.89      0.87       534\n",
      "           1       0.86      0.81      0.84       451\n",
      "\n",
      "   micro avg       0.85      0.85      0.85       985\n",
      "   macro avg       0.86      0.85      0.85       985\n",
      "weighted avg       0.86      0.85      0.85       985\n",
      "\n",
      "\n",
      "Classification report for gender where race = indian\n",
      "              precision    recall  f1-score   support\n",
      "\n",
      "           0       0.88      0.88      0.88       221\n",
      "           1       0.84      0.84      0.84       165\n",
      "\n",
      "   micro avg       0.86      0.86      0.86       386\n",
      "   macro avg       0.86      0.86      0.86       386\n",
      "weighted avg       0.86      0.86      0.86       386\n",
      "\n",
      "\n",
      "Classification report for gender where race = black\n",
      "              precision    recall  f1-score   support\n",
      "\n",
      "           0       0.89      0.92      0.90       228\n",
      "           1       0.91      0.87      0.89       211\n",
      "\n",
      "   micro avg       0.90      0.90      0.90       439\n",
      "   macro avg       0.90      0.89      0.89       439\n",
      "weighted avg       0.90      0.90      0.90       439\n",
      "\n",
      "\n",
      "Classification report for gender where race = asian\n",
      "              precision    recall  f1-score   support\n",
      "\n",
      "           0       0.73      0.84      0.78       151\n",
      "           1       0.85      0.74      0.79       178\n",
      "\n",
      "   micro avg       0.78      0.78      0.78       329\n",
      "   macro avg       0.79      0.79      0.78       329\n",
      "weighted avg       0.79      0.78      0.78       329\n",
      "\n",
      "\n",
      "Classification report for gender where race = others\n",
      "              precision    recall  f1-score   support\n",
      "\n",
      "           0       0.83      0.81      0.82        73\n",
      "           1       0.85      0.87      0.86        92\n",
      "\n",
      "   micro avg       0.84      0.84      0.84       165\n",
      "   macro avg       0.84      0.84      0.84       165\n",
      "weighted avg       0.84      0.84      0.84       165\n",
      "\n"
     ]
    }
   ],
   "source": [
    "for race in unique_races:  \n",
    "    print(\"\\nClassification report for gender where race = {}\".format(race))\n",
    "    print(classification_report(df_preds[df_preds['race'] == race]['gender_true'], \n",
    "                                df_preds[df_preds['race'] == race]['gender_pred']))"
   ]
  },
  {
   "cell_type": "code",
   "execution_count": null,
   "metadata": {},
   "outputs": [],
   "source": []
  },
  {
   "cell_type": "code",
   "execution_count": null,
   "metadata": {},
   "outputs": [],
   "source": [
    "from sklearn.metrics import confusion_matrix\n",
    "from sklearn.utils.multiclass import unique_labels\n",
    "\n",
    "def plot_confusion_matrix(y_true, y_pred, classes,\n",
    "                          normalize=False,\n",
    "                          title=None,\n",
    "                          cmap=plt.cm.Blues):\n",
    "    \"\"\"\n",
    "    This function prints and plots the confusion matrix.\n",
    "    Normalization can be applied by setting `normalize=True`.\n",
    "    \"\"\"\n",
    "    if not title:\n",
    "        if normalize:\n",
    "            title = 'Normalized confusion matrix'\n",
    "        else:\n",
    "            title = 'Confusion matrix, without normalization'\n",
    "\n",
    "    # Compute confusion matrix\n",
    "    cm = confusion_matrix(y_true, y_pred)\n",
    "    # Only use the labels that appear in the data\n",
    "    classes = classes[unique_labels(y_true, y_pred)]\n",
    "    if normalize:\n",
    "        cm = cm.astype('float') / cm.sum(axis=1)[:, np.newaxis]\n",
    "        print(\"Normalized confusion matrix\")\n",
    "    else:\n",
    "        print('Confusion matrix, without normalization')\n",
    "\n",
    "    print(cm)\n",
    "\n",
    "    fig, ax = plt.subplots()\n",
    "    im = ax.imshow(cm, interpolation='nearest', cmap=cmap)\n",
    "    ax.figure.colorbar(im, ax=ax)\n",
    "    # We want to show all ticks...\n",
    "    ax.set(xticks=np.arange(cm.shape[1]),\n",
    "           yticks=np.arange(cm.shape[0]),\n",
    "           # ... and label them with the respective list entries\n",
    "           xticklabels=classes, yticklabels=classes,\n",
    "           title=title,\n",
    "           ylabel='True label',\n",
    "           xlabel='Predicted label')\n",
    "\n",
    "    # Rotate the tick labels and set their alignment.\n",
    "    plt.setp(ax.get_xticklabels(), rotation=45, ha=\"right\",\n",
    "             rotation_mode=\"anchor\")\n",
    "\n",
    "    # Loop over data dimensions and create text annotations.\n",
    "    fmt = '.2f' if normalize else 'd'\n",
    "    thresh = cm.max() / 2.\n",
    "    for i in range(cm.shape[0]):\n",
    "        for j in range(cm.shape[1]):\n",
    "            ax.text(j, i, format(cm[i, j], fmt),\n",
    "                    ha=\"center\", va=\"center\",\n",
    "                    color=\"white\" if cm[i, j] > thresh else \"black\")\n",
    "    fig.tight_layout()\n",
    "    return ax"
   ]
  },
  {
   "cell_type": "code",
   "execution_count": null,
   "metadata": {
    "_uuid": "f207a3b95ddd1cfddaf7dd7cc0f61c703db0d48b"
   },
   "outputs": [],
   "source": [
    "import math\n",
    "n = 30\n",
    "random_indices = np.random.permutation(n)\n",
    "n_cols = 5\n",
    "n_rows = math.ceil(n / n_cols)\n",
    "fig, axes = plt.subplots(n_rows, n_cols, figsize=(15, 20))\n",
    "for i, img_idx in enumerate(random_indices):\n",
    "    ax = axes.flat[i]\n",
    "    ax.imshow(x_test[img_idx])\n",
    "    ax.set_title('g:{}, r:{}'.format(ID_GENDER_MAP[gender_pred[img_idx]], ID_RACE_MAP[race_pred[img_idx]]))\n",
    "    ax.set_xlabel('g:{}, r:{}'.format(ID_GENDER_MAP[gender_true[img_idx]], ID_RACE_MAP[race_true[img_idx]]))\n",
    "    ax.set_xticks([])\n",
    "    ax.set_yticks([])\n",
    "    "
   ]
  },
  {
   "cell_type": "markdown",
   "metadata": {},
   "source": [
    "## Downsampling"
   ]
  },
  {
   "cell_type": "code",
   "execution_count": 37,
   "metadata": {
    "_uuid": "b269b292feb5d018ce8d7f6ec45eea06de6c581b"
   },
   "outputs": [],
   "source": [
    "#Down data to balance the data set\n",
    "def downsample(base_df,univ_df,race):\n",
    "    n=univ_df.loc[df.race=='others'].shape[0]   \n",
    "    temp=univ_df.loc[df.race==race]\n",
    "    smpl=temp.sample(n,replace=True)\n",
    "    df1=base_df.append(smpl)    \n",
    "    return df1\n",
    "\n",
    "base_down=train_df.append(val_df)\n",
    "df_down=base_down.loc[base_down.race=='others']\n",
    "df_down=downsample(df_down,base_down,'black',)\n",
    "df_down=downsample(df_down,base_down,'indian')\n",
    "df_down=downsample(df_down,base_down,'asian')\n",
    "df_down=downsample(df_down,base_down,'white')"
   ]
  },
  {
   "cell_type": "code",
   "execution_count": 38,
   "metadata": {
    "scrolled": true
   },
   "outputs": [
    {
     "data": {
      "text/plain": [
       "white     1523\n",
       "others    1523\n",
       "indian    1523\n",
       "black     1523\n",
       "asian     1523\n",
       "Name: race, dtype: int64"
      ]
     },
     "execution_count": 38,
     "metadata": {},
     "output_type": "execute_result"
    }
   ],
   "source": [
    "df_down.race.value_counts()"
   ]
  },
  {
   "cell_type": "code",
   "execution_count": 39,
   "metadata": {},
   "outputs": [],
   "source": [
    "train_down, val_down = train_test_split(df_down)"
   ]
  },
  {
   "cell_type": "code",
   "execution_count": 40,
   "metadata": {
    "_uuid": "e623d31c68be2b4f61c3f72749b23e1c694da729",
    "scrolled": false
   },
   "outputs": [
    {
     "name": "stdout",
     "output_type": "stream",
     "text": [
      "Epoch 1/10\n",
      "89/89 [==============================] - 37s 421ms/step - loss: 0.2870 - acc: 0.8775 - val_loss: 0.3094 - val_acc: 0.8690\n",
      "Epoch 2/10\n",
      "89/89 [==============================] - 36s 402ms/step - loss: 0.2566 - acc: 0.8938 - val_loss: 0.3258 - val_acc: 0.8627\n",
      "Epoch 3/10\n",
      "89/89 [==============================] - 36s 405ms/step - loss: 0.2372 - acc: 0.9005 - val_loss: 0.2991 - val_acc: 0.8666\n",
      "Epoch 4/10\n",
      "89/89 [==============================] - 36s 406ms/step - loss: 0.2124 - acc: 0.9156 - val_loss: 0.2871 - val_acc: 0.8854\n",
      "Epoch 5/10\n",
      "89/89 [==============================] - 36s 401ms/step - loss: 0.2035 - acc: 0.9154 - val_loss: 0.3728 - val_acc: 0.8287\n",
      "Epoch 6/10\n",
      "89/89 [==============================] - 36s 405ms/step - loss: 0.1887 - acc: 0.9243 - val_loss: 0.2966 - val_acc: 0.8725\n",
      "Epoch 7/10\n",
      "89/89 [==============================] - 36s 406ms/step - loss: 0.1806 - acc: 0.9287 - val_loss: 0.2733 - val_acc: 0.8885\n",
      "Epoch 8/10\n",
      "89/89 [==============================] - 36s 407ms/step - loss: 0.1609 - acc: 0.9352 - val_loss: 0.2611 - val_acc: 0.8908\n",
      "Epoch 9/10\n",
      "89/89 [==============================] - 36s 406ms/step - loss: 0.1570 - acc: 0.9419 - val_loss: 0.2915 - val_acc: 0.8822\n",
      "Epoch 10/10\n",
      "89/89 [==============================] - 36s 406ms/step - loss: 0.1409 - acc: 0.9465 - val_loss: 0.2878 - val_acc: 0.8878\n"
     ]
    }
   ],
   "source": [
    "from keras.callbacks import ModelCheckpoint\n",
    "\n",
    "\n",
    "model_imprv = Model(inputs=input_layer, outputs=[gender_output])\n",
    "\n",
    "model_imprv.compile(optimizer='rmsprop', \n",
    "              loss={'gender_output': 'categorical_crossentropy'},\n",
    "              metrics={'gender_output': 'accuracy'})\n",
    "epochs=10\n",
    "batch_size = 64\n",
    "valid_batch_size = 64\n",
    "train_gen = get_data_generator(train_down, for_training=True, batch_size=batch_size, flip_add_noise=False)\n",
    "valid_gen = get_data_generator(val_down, for_training=True, batch_size=valid_batch_size)\n",
    "\n",
    "callbacks = [ModelCheckpoint(\"./model_checkpoint\", monitor='val_loss')]\n",
    "\n",
    "history = model_imprv.fit_generator(train_gen,\n",
    "                    steps_per_epoch=len(train_down)//batch_size,\n",
    "                    epochs=epochs,\n",
    "                    callbacks=callbacks,\n",
    "                    validation_data=valid_gen,\n",
    "                    validation_steps=len(train_down)//valid_batch_size)\n",
    "                    "
   ]
  },
  {
   "cell_type": "code",
   "execution_count": 41,
   "metadata": {},
   "outputs": [],
   "source": [
    "model.save_weights('train_weight/downsample_' + run_type + '_' + str(epochs) + '_epochs.w')"
   ]
  },
  {
   "cell_type": "code",
   "execution_count": 42,
   "metadata": {},
   "outputs": [],
   "source": [
    "test_gen = get_data_generator(test_df, for_training=False, batch_size=128)\n",
    "true_list = []\n",
    "pred_list = []\n",
    "race_list = []\n",
    "age_list  = []\n",
    "file_list = []\n",
    "for i, batch in enumerate(test_gen):\n",
    "    batch_pred = model_imprv.predict_on_batch(batch[0]).tolist()\n",
    "    batch_true = batch[1].tolist()\n",
    "    batch_race = batch[2].tolist()\n",
    "    batch_age  = batch[3].tolist()\n",
    "    batch_file = batch[4].tolist()    \n",
    "\n",
    "    for t in batch_true:\n",
    "        true_list.append(t)\n",
    "    for p in batch_pred:\n",
    "        pred_list.append(p)\n",
    "    for r in batch_race:\n",
    "        race_list.append(r)\n",
    "    for a in batch_age:\n",
    "        age_list.append(a)        \n",
    "    for f in batch_file:\n",
    "        file_list.append(f)          "
   ]
  },
  {
   "cell_type": "code",
   "execution_count": 43,
   "metadata": {},
   "outputs": [],
   "source": [
    "gender_true = np.array(true_list).argmax(axis=-1)\n",
    "gender_pred = np.array(pred_list).argmax(axis=-1)\n",
    "races = np.array(race_list)\n",
    "ages = np.array(age_list)\n",
    "files = np.array(file_list)"
   ]
  },
  {
   "cell_type": "code",
   "execution_count": 44,
   "metadata": {},
   "outputs": [],
   "source": [
    "df_preds = pd.DataFrame(list(zip(races, gender_true, gender_pred, ages, files)), \n",
    "                        columns=['race','gender_true','gender_pred','age','file'])"
   ]
  },
  {
   "cell_type": "code",
   "execution_count": 45,
   "metadata": {},
   "outputs": [],
   "source": [
    "unique_races = df_preds['race'].unique()"
   ]
  },
  {
   "cell_type": "code",
   "execution_count": 231,
   "metadata": {},
   "outputs": [
    {
     "name": "stdout",
     "output_type": "stream",
     "text": [
      "\n",
      "Classification report for gender where race = white\n",
      "              precision    recall  f1-score   support\n",
      "\n",
      "           0       0.98      0.87      0.92       406\n",
      "           1       0.86      0.98      0.91       323\n",
      "\n",
      "   micro avg       0.92      0.92      0.92       729\n",
      "   macro avg       0.92      0.92      0.92       729\n",
      "weighted avg       0.92      0.92      0.92       729\n",
      "\n",
      "\n",
      "Classification report for gender where race = asian\n",
      "              precision    recall  f1-score   support\n",
      "\n",
      "           0       0.98      0.87      0.92        91\n",
      "           1       0.91      0.98      0.95       129\n",
      "\n",
      "   micro avg       0.94      0.94      0.94       220\n",
      "   macro avg       0.94      0.93      0.93       220\n",
      "weighted avg       0.94      0.94      0.94       220\n",
      "\n",
      "\n",
      "Classification report for gender where race = indian\n",
      "              precision    recall  f1-score   support\n",
      "\n",
      "           0       0.98      0.89      0.93       183\n",
      "           1       0.87      0.98      0.92       136\n",
      "\n",
      "   micro avg       0.93      0.93      0.93       319\n",
      "   macro avg       0.93      0.93      0.93       319\n",
      "weighted avg       0.93      0.93      0.93       319\n",
      "\n",
      "\n",
      "Classification report for gender where race = black\n",
      "              precision    recall  f1-score   support\n",
      "\n",
      "           0       0.94      0.85      0.89       201\n",
      "           1       0.86      0.94      0.90       200\n",
      "\n",
      "   micro avg       0.90      0.90      0.90       401\n",
      "   macro avg       0.90      0.90      0.90       401\n",
      "weighted avg       0.90      0.90      0.90       401\n",
      "\n",
      "\n",
      "Classification report for gender where race = others\n",
      "              precision    recall  f1-score   support\n",
      "\n",
      "           0       0.96      0.86      0.91        57\n",
      "           1       0.89      0.97      0.93        66\n",
      "\n",
      "   micro avg       0.92      0.92      0.92       123\n",
      "   macro avg       0.92      0.91      0.92       123\n",
      "weighted avg       0.92      0.92      0.92       123\n",
      "\n"
     ]
    }
   ],
   "source": [
    "for race in unique_races:  \n",
    "    print(\"\\nClassification report for gender where race = {}\".format(race))\n",
    "    print(classification_report(df_preds[df_preds['race'] == race]['gender_true'], \n",
    "                                df_preds[df_preds['race'] == race]['gender_pred']))"
   ]
  },
  {
   "cell_type": "code",
   "execution_count": null,
   "metadata": {},
   "outputs": [],
   "source": []
  },
  {
   "cell_type": "code",
   "execution_count": null,
   "metadata": {},
   "outputs": [],
   "source": []
  },
  {
   "cell_type": "code",
   "execution_count": null,
   "metadata": {},
   "outputs": [],
   "source": []
  },
  {
   "cell_type": "markdown",
   "metadata": {
    "_uuid": "01b2658ac01f423ab0ee1137d3b94054c083c018"
   },
   "source": [
    "## Upsampling"
   ]
  },
  {
   "cell_type": "code",
   "execution_count": 47,
   "metadata": {
    "_uuid": "06f185fb8e1863d3bc9003d1a13e312cd554ceaf"
   },
   "outputs": [],
   "source": [
    "#Upsampling data to balance the data set\n",
    "\n",
    "def upsample(df,race):\n",
    "    n=df.loc[df.race=='white'].shape[0]-df.loc[df.race==race].shape[0]\n",
    "    temp=df.loc[df.race==race]\n",
    "    smpl=temp.sample(n,replace=True)\n",
    "    df=df.append(smpl)\n",
    "    return df\n",
    "\n",
    "base_up=train_df.append(val_df)\n",
    "df_up=upsample(base_up,'black',)\n",
    "df_up=upsample(df_up,'indian')\n",
    "df_up=upsample(df_up,'asian')\n",
    "df_up=upsample(df_up,'others')"
   ]
  },
  {
   "cell_type": "code",
   "execution_count": 189,
   "metadata": {},
   "outputs": [
    {
     "data": {
      "text/plain": [
       "white     6755\n",
       "black     6755\n",
       "asian     6755\n",
       "others    6755\n",
       "indian    6755\n",
       "Name: race, dtype: int64"
      ]
     },
     "execution_count": 189,
     "metadata": {},
     "output_type": "execute_result"
    }
   ],
   "source": [
    "df_up.race.value_counts()\n"
   ]
  },
  {
   "cell_type": "markdown",
   "metadata": {},
   "source": [
    "### Data Generator to add noise and flipping (I have added condition for adding noise so that we can have just one generator to serve all our needs)"
   ]
  },
  {
   "cell_type": "code",
   "execution_count": null,
   "metadata": {},
   "outputs": [],
   "source": []
  },
  {
   "cell_type": "code",
   "execution_count": 48,
   "metadata": {},
   "outputs": [],
   "source": [
    "train_upsmpl, val_upsmpl = train_test_split(df_up)"
   ]
  },
  {
   "cell_type": "code",
   "execution_count": 49,
   "metadata": {
    "_uuid": "e623d31c68be2b4f61c3f72749b23e1c694da729",
    "scrolled": false
   },
   "outputs": [
    {
     "name": "stdout",
     "output_type": "stream",
     "text": [
      "Epoch 1/10\n",
      "531/531 [==============================] - 178s 335ms/step - loss: 0.2638 - acc: 0.8873 - val_loss: 0.2915 - val_acc: 0.8919\n",
      "Epoch 2/10\n",
      "531/531 [==============================] - 177s 333ms/step - loss: 0.2271 - acc: 0.9060 - val_loss: 0.2838 - val_acc: 0.8865\n",
      "Epoch 3/10\n",
      "531/531 [==============================] - 182s 343ms/step - loss: 0.2080 - acc: 0.9141 - val_loss: 0.2411 - val_acc: 0.9135\n",
      "Epoch 4/10\n",
      "531/531 [==============================] - 177s 333ms/step - loss: 0.1889 - acc: 0.9233 - val_loss: 0.2174 - val_acc: 0.9267\n",
      "Epoch 5/10\n",
      "531/531 [==============================] - 177s 333ms/step - loss: 0.1816 - acc: 0.9271 - val_loss: 0.2268 - val_acc: 0.9264\n",
      "Epoch 6/10\n",
      "531/531 [==============================] - 182s 342ms/step - loss: 0.1654 - acc: 0.9347 - val_loss: 0.2036 - val_acc: 0.9306\n",
      "Epoch 7/10\n",
      "531/531 [==============================] - 177s 333ms/step - loss: 0.1540 - acc: 0.9388 - val_loss: 0.2107 - val_acc: 0.9231\n",
      "Epoch 8/10\n",
      "531/531 [==============================] - 177s 333ms/step - loss: 0.1396 - acc: 0.9451 - val_loss: 0.2243 - val_acc: 0.9181\n",
      "Epoch 9/10\n",
      "531/531 [==============================] - 182s 343ms/step - loss: 0.1356 - acc: 0.9472 - val_loss: 0.2209 - val_acc: 0.9152\n",
      "Epoch 10/10\n",
      "531/531 [==============================] - 177s 334ms/step - loss: 0.1275 - acc: 0.9503 - val_loss: 0.2521 - val_acc: 0.8912\n"
     ]
    }
   ],
   "source": [
    "from keras.callbacks import ModelCheckpoint\n",
    "\n",
    "\n",
    "model_imprv = Model(inputs=input_layer, outputs=[gender_output])\n",
    "\n",
    "model_imprv.compile(optimizer='rmsprop', \n",
    "              loss={'gender_output': 'categorical_crossentropy'},\n",
    "              metrics={'gender_output': 'accuracy'})\n",
    "\n",
    "batch_size = 64\n",
    "valid_batch_size = 64\n",
    "train_gen = get_data_generator(train_upsmpl, for_training=True, batch_size=batch_size, flip_add_noise=True)\n",
    "valid_gen = get_data_generator(val_upsmpl, for_training=True, batch_size=valid_batch_size)\n",
    "\n",
    "callbacks = [ModelCheckpoint(\"./model_checkpoint\", monitor='val_loss')]\n",
    "\n",
    "history = model_imprv.fit_generator(train_gen,\n",
    "                    steps_per_epoch=len(train_upsmpl)//batch_size,\n",
    "                    epochs=epochs,\n",
    "                    callbacks=callbacks,\n",
    "                    validation_data=valid_gen,\n",
    "                    validation_steps=len(val_upsmpl)//valid_batch_size)\n",
    "                    "
   ]
  },
  {
   "cell_type": "code",
   "execution_count": 53,
   "metadata": {},
   "outputs": [],
   "source": [
    "model.save_weights('train_weight/upsample_' + run_type + '_' + str(epochs) + '_epochs.w')"
   ]
  },
  {
   "cell_type": "code",
   "execution_count": 54,
   "metadata": {},
   "outputs": [],
   "source": [
    "run_type = 'upsampling'\n",
    "epochs = 10"
   ]
  },
  {
   "cell_type": "code",
   "execution_count": 55,
   "metadata": {
    "scrolled": true
   },
   "outputs": [
    {
     "name": "stdout",
     "output_type": "stream",
     "text": [
      "_________________________________________________________________\n",
      "Layer (type)                 Output Shape              Param #   \n",
      "=================================================================\n",
      "input_2 (InputLayer)         (None, 198, 198, 3)       0         \n",
      "_________________________________________________________________\n",
      "conv2d_6 (Conv2D)            (None, 196, 196, 16)      448       \n",
      "_________________________________________________________________\n",
      "conv2d_7 (Conv2D)            (None, 194, 194, 32)      4640      \n",
      "_________________________________________________________________\n",
      "batch_normalization_5 (Batch (None, 194, 194, 32)      128       \n",
      "_________________________________________________________________\n",
      "max_pooling2d_5 (MaxPooling2 (None, 97, 97, 32)        0         \n",
      "_________________________________________________________________\n",
      "conv2d_8 (Conv2D)            (None, 95, 95, 48)        13872     \n",
      "_________________________________________________________________\n",
      "dropout_3 (Dropout)          (None, 95, 95, 48)        0         \n",
      "_________________________________________________________________\n",
      "batch_normalization_6 (Batch (None, 95, 95, 48)        192       \n",
      "_________________________________________________________________\n",
      "max_pooling2d_6 (MaxPooling2 (None, 47, 47, 48)        0         \n",
      "_________________________________________________________________\n",
      "conv2d_9 (Conv2D)            (None, 45, 45, 64)        27712     \n",
      "_________________________________________________________________\n",
      "batch_normalization_7 (Batch (None, 45, 45, 64)        256       \n",
      "_________________________________________________________________\n",
      "max_pooling2d_7 (MaxPooling2 (None, 22, 22, 64)        0         \n",
      "_________________________________________________________________\n",
      "conv2d_10 (Conv2D)           (None, 20, 20, 80)        46160     \n",
      "_________________________________________________________________\n",
      "dropout_4 (Dropout)          (None, 20, 20, 80)        0         \n",
      "_________________________________________________________________\n",
      "batch_normalization_8 (Batch (None, 20, 20, 80)        320       \n",
      "_________________________________________________________________\n",
      "max_pooling2d_8 (MaxPooling2 (None, 10, 10, 80)        0         \n",
      "_________________________________________________________________\n",
      "global_max_pooling2d_2 (Glob (None, 80)                0         \n",
      "_________________________________________________________________\n",
      "dense_2 (Dense)              (None, 128)               10368     \n",
      "_________________________________________________________________\n",
      "gender_output (Dense)        (None, 2)                 258       \n",
      "=================================================================\n",
      "Total params: 104,354\n",
      "Trainable params: 103,906\n",
      "Non-trainable params: 448\n",
      "_________________________________________________________________\n"
     ]
    }
   ],
   "source": [
    "model_imprv.summary()"
   ]
  },
  {
   "cell_type": "code",
   "execution_count": 56,
   "metadata": {},
   "outputs": [],
   "source": [
    "test_gen = get_data_generator(test_df, for_training=False, batch_size=128)\n",
    "true_list = []\n",
    "pred_list = []\n",
    "race_list = []\n",
    "age_list  = []\n",
    "file_list = []\n",
    "for i, batch in enumerate(test_gen):\n",
    "    batch_pred = model_imprv.predict_on_batch(batch[0]).tolist()\n",
    "    batch_true = batch[1].tolist()\n",
    "    batch_race = batch[2].tolist()\n",
    "    batch_age  = batch[3].tolist()\n",
    "    batch_file = batch[4].tolist()    \n",
    "\n",
    "    for t in batch_true:\n",
    "        true_list.append(t)\n",
    "    for p in batch_pred:\n",
    "        pred_list.append(p)\n",
    "    for r in batch_race:\n",
    "        race_list.append(r)\n",
    "    for a in batch_age:\n",
    "        age_list.append(a)        \n",
    "    for f in batch_file:\n",
    "        file_list.append(f)          "
   ]
  },
  {
   "cell_type": "code",
   "execution_count": 57,
   "metadata": {},
   "outputs": [],
   "source": [
    "gender_true = np.array(true_list).argmax(axis=-1)\n",
    "gender_pred = np.array(pred_list).argmax(axis=-1)\n",
    "races = np.array(race_list)\n",
    "ages = np.array(age_list)\n",
    "files = np.array(file_list)"
   ]
  },
  {
   "cell_type": "code",
   "execution_count": 58,
   "metadata": {},
   "outputs": [],
   "source": [
    "df_preds = pd.DataFrame(list(zip(races, gender_true, gender_pred, ages, files)), \n",
    "                        columns=['race','gender_true','gender_pred','age','file'])"
   ]
  },
  {
   "cell_type": "code",
   "execution_count": 59,
   "metadata": {},
   "outputs": [],
   "source": [
    "unique_races = df_preds['race'].unique()"
   ]
  },
  {
   "cell_type": "code",
   "execution_count": 209,
   "metadata": {},
   "outputs": [
    {
     "name": "stdout",
     "output_type": "stream",
     "text": [
      "\n",
      "Classification report for gender where race = white\n",
      "              precision    recall  f1-score   support\n",
      "\n",
      "           0       0.92      0.92      0.92       406\n",
      "           1       0.90      0.90      0.90       323\n",
      "\n",
      "   micro avg       0.91      0.91      0.91       729\n",
      "   macro avg       0.91      0.91      0.91       729\n",
      "weighted avg       0.91      0.91      0.91       729\n",
      "\n",
      "\n",
      "Classification report for gender where race = asian\n",
      "              precision    recall  f1-score   support\n",
      "\n",
      "           0       0.94      0.90      0.92        91\n",
      "           1       0.93      0.96      0.95       129\n",
      "\n",
      "   micro avg       0.94      0.94      0.94       220\n",
      "   macro avg       0.94      0.93      0.93       220\n",
      "weighted avg       0.94      0.94      0.94       220\n",
      "\n",
      "\n",
      "Classification report for gender where race = indian\n",
      "              precision    recall  f1-score   support\n",
      "\n",
      "           0       0.94      0.93      0.93       183\n",
      "           1       0.91      0.92      0.91       136\n",
      "\n",
      "   micro avg       0.92      0.92      0.92       319\n",
      "   macro avg       0.92      0.92      0.92       319\n",
      "weighted avg       0.92      0.92      0.92       319\n",
      "\n",
      "\n",
      "Classification report for gender where race = black\n",
      "              precision    recall  f1-score   support\n",
      "\n",
      "           0       0.88      0.81      0.84       201\n",
      "           1       0.82      0.89      0.85       200\n",
      "\n",
      "   micro avg       0.85      0.85      0.85       401\n",
      "   macro avg       0.85      0.85      0.85       401\n",
      "weighted avg       0.85      0.85      0.85       401\n",
      "\n",
      "\n",
      "Classification report for gender where race = others\n",
      "              precision    recall  f1-score   support\n",
      "\n",
      "           0       0.86      0.88      0.87        57\n",
      "           1       0.89      0.88      0.89        66\n",
      "\n",
      "   micro avg       0.88      0.88      0.88       123\n",
      "   macro avg       0.88      0.88      0.88       123\n",
      "weighted avg       0.88      0.88      0.88       123\n",
      "\n"
     ]
    }
   ],
   "source": [
    "for race in unique_races:  \n",
    "    print(\"\\nClassification report for gender where race = {}\".format(race))\n",
    "    print(classification_report(df_preds[df_preds['race'] == race]['gender_true'], \n",
    "                                df_preds[df_preds['race'] == race]['gender_pred']))"
   ]
  },
  {
   "cell_type": "code",
   "execution_count": 93,
   "metadata": {},
   "outputs": [
    {
     "data": {
      "text/plain": [
       "'/jupyteruser/41400447/Project/UTKFace/20_1_1_20170112230604949.jpg.chip.jpg'"
      ]
     },
     "execution_count": 93,
     "metadata": {},
     "output_type": "execute_result"
    }
   ],
   "source": [
    "df_up.iloc[100]['file']"
   ]
  },
  {
   "cell_type": "code",
   "execution_count": 94,
   "metadata": {},
   "outputs": [
    {
     "name": "stdout",
     "output_type": "stream",
     "text": [
      "input_1\n",
      "conv2d_1\n",
      "conv2d_2\n",
      "batch_normalization_1\n",
      "max_pooling2d_1\n",
      "conv2d_3\n",
      "batch_normalization_2\n",
      "max_pooling2d_2\n",
      "conv2d_4\n",
      "batch_normalization_3\n",
      "max_pooling2d_3\n",
      "conv2d_5\n",
      "batch_normalization_4\n",
      "max_pooling2d_4\n",
      "conv2d_6\n",
      "batch_normalization_5\n",
      "max_pooling2d_5\n",
      "global_max_pooling2d_1\n",
      "dense_1\n",
      "gender_output\n"
     ]
    }
   ],
   "source": [
    "for layer in model_imprv.layers:\n",
    "    print(layer.name)"
   ]
  },
  {
   "cell_type": "code",
   "execution_count": 95,
   "metadata": {},
   "outputs": [],
   "source": [
    "from vis.visualization import visualize_saliency\n",
    "from vis.utils import utils\n",
    "from keras import activations"
   ]
  },
  {
   "cell_type": "code",
   "execution_count": 98,
   "metadata": {},
   "outputs": [],
   "source": [
    "test_img=plt.imread('/jupyteruser/41400447/Project/UTKFace/20_1_1_20170112230604949.jpg.chip.jpg')\n",
    "def plot_saliency(img=test_img, layer_nm='gender_output',model=model_imprv):\n",
    "    layer_ind=utils.find_layer_idx(model,layer_nm)\n",
    "    model.layers[layer_ind].activation = activations.linear\n",
    "    model = utils.apply_modifications(model)\n",
    "    grads = visualize_saliency(model, layer_ind, filter_indices=0,  seed_input=img)\n",
    "    fig, (ax1,ax2) = plt.subplots(1,2,figsize=(15,5))\n",
    "    fig.suptitle('Gravitational wave', y=0.8)\n",
    "    ax1.set_title('Original image')\n",
    "    ax2.set_title('Saliency map for {name}'.format(name=layer_nm))\n",
    "    ax1.imshow(img[:,:,:])\n",
    "    ax2.imshow(grads, cmap='jet')\n",
    "    ax1.set_axis_off()\n",
    "    ax2.set_axis_off()"
   ]
  },
  {
   "cell_type": "code",
   "execution_count": 99,
   "metadata": {},
   "outputs": [
    {
     "data": {
      "image/png": "[encoded data removed]",
      "text/plain": [
       "<Figure size 1080x360 with 2 Axes>"
      ]
     },
     "metadata": {
      "needs_background": "light"
     },
     "output_type": "display_data"
    }
   ],
   "source": [
    "plot_saliency(img=test_img, layer_nm='gender_output', model=model_imprv)"
   ]
  },
  {
   "cell_type": "markdown",
   "metadata": {},
   "source": [
    "## Adding more noise (50% of images)"
   ]
  },
  {
   "cell_type": "code",
   "execution_count": null,
   "metadata": {},
   "outputs": [],
   "source": []
  },
  {
   "cell_type": "code",
   "execution_count": 212,
   "metadata": {
    "_uuid": "e623d31c68be2b4f61c3f72749b23e1c694da729",
    "scrolled": false
   },
   "outputs": [
    {
     "name": "stdout",
     "output_type": "stream",
     "text": [
      "Epoch 1/2\n",
      "395/395 [==============================] - 137s 346ms/step - loss: 0.0559 - acc: 0.9816 - val_loss: 0.1295 - val_acc: 0.9596\n",
      "Epoch 2/2\n",
      "395/395 [==============================] - 133s 336ms/step - loss: 0.0548 - acc: 0.9817 - val_loss: 0.1188 - val_acc: 0.9597\n"
     ]
    }
   ],
   "source": [
    "from keras.callbacks import ModelCheckpoint\n",
    "\n",
    "\n",
    "model_imprv = Model(inputs=input_layer, outputs=[gender_output])\n",
    "\n",
    "model_imprv.compile(optimizer='rmsprop', \n",
    "              loss={'gender_output': 'categorical_crossentropy'},\n",
    "              metrics={'gender_output': 'accuracy'})\n",
    "epochs=2\n",
    "batch_size = 64\n",
    "valid_batch_size = 64\n",
    "train_gen = get_data_generator(train_upsmpl, for_training=True, batch_size=batch_size, flip_add_noise=True)\n",
    "valid_gen = get_data_generator(val_upsmpl, for_training=True, batch_size=valid_batch_size)\n",
    "\n",
    "callbacks = [ModelCheckpoint(\"./model_checkpoint\", monitor='val_loss')]\n",
    "\n",
    "history = model_imprv.fit_generator(train_gen,\n",
    "                    steps_per_epoch=len(train_upsmpl)//batch_size,\n",
    "                    epochs=epochs,\n",
    "                    callbacks=callbacks,\n",
    "                    validation_data=valid_gen,\n",
    "                    validation_steps=len(val_upsmpl)//valid_batch_size)\n",
    "                    "
   ]
  },
  {
   "cell_type": "code",
   "execution_count": 194,
   "metadata": {
    "scrolled": true
   },
   "outputs": [
    {
     "name": "stdout",
     "output_type": "stream",
     "text": [
      "_________________________________________________________________\n",
      "Layer (type)                 Output Shape              Param #   \n",
      "=================================================================\n",
      "input_7 (InputLayer)         (None, 198, 198, 3)       0         \n",
      "_________________________________________________________________\n",
      "conv2d_30 (Conv2D)           (None, 196, 196, 16)      448       \n",
      "_________________________________________________________________\n",
      "conv2d_31 (Conv2D)           (None, 194, 194, 32)      4640      \n",
      "_________________________________________________________________\n",
      "batch_normalization_24 (Batc (None, 194, 194, 32)      128       \n",
      "_________________________________________________________________\n",
      "max_pooling2d_23 (MaxPooling (None, 97, 97, 32)        0         \n",
      "_________________________________________________________________\n",
      "conv2d_32 (Conv2D)           (None, 95, 95, 48)        13872     \n",
      "_________________________________________________________________\n",
      "dropout_8 (Dropout)          (None, 95, 95, 48)        0         \n",
      "_________________________________________________________________\n",
      "batch_normalization_25 (Batc (None, 95, 95, 48)        192       \n",
      "_________________________________________________________________\n",
      "max_pooling2d_24 (MaxPooling (None, 47, 47, 48)        0         \n",
      "_________________________________________________________________\n",
      "conv2d_33 (Conv2D)           (None, 45, 45, 64)        27712     \n",
      "_________________________________________________________________\n",
      "batch_normalization_26 (Batc (None, 45, 45, 64)        256       \n",
      "_________________________________________________________________\n",
      "max_pooling2d_25 (MaxPooling (None, 22, 22, 64)        0         \n",
      "_________________________________________________________________\n",
      "conv2d_34 (Conv2D)           (None, 20, 20, 80)        46160     \n",
      "_________________________________________________________________\n",
      "dropout_9 (Dropout)          (None, 20, 20, 80)        0         \n",
      "_________________________________________________________________\n",
      "batch_normalization_27 (Batc (None, 20, 20, 80)        320       \n",
      "_________________________________________________________________\n",
      "max_pooling2d_26 (MaxPooling (None, 10, 10, 80)        0         \n",
      "_________________________________________________________________\n",
      "global_max_pooling2d_6 (Glob (None, 80)                0         \n",
      "_________________________________________________________________\n",
      "dense_6 (Dense)              (None, 128)               10368     \n",
      "_________________________________________________________________\n",
      "gender_output (Dense)        (None, 2)                 258       \n",
      "=================================================================\n",
      "Total params: 104,354\n",
      "Trainable params: 103,906\n",
      "Non-trainable params: 448\n",
      "_________________________________________________________________\n"
     ]
    }
   ],
   "source": [
    "model_imprv.summary()"
   ]
  },
  {
   "cell_type": "code",
   "execution_count": 213,
   "metadata": {},
   "outputs": [],
   "source": [
    "test_gen = get_data_generator(test_df, for_training=False, batch_size=128)\n",
    "true_list = []\n",
    "pred_list = []\n",
    "race_list = []\n",
    "age_list  = []\n",
    "file_list = []\n",
    "for i, batch in enumerate(test_gen):\n",
    "    batch_pred = model_imprv.predict_on_batch(batch[0]).tolist()\n",
    "    batch_true = batch[1].tolist()\n",
    "    batch_race = batch[2].tolist()\n",
    "    batch_age  = batch[3].tolist()\n",
    "    batch_file = batch[4].tolist()    \n",
    "\n",
    "    for t in batch_true:\n",
    "        true_list.append(t)\n",
    "    for p in batch_pred:\n",
    "        pred_list.append(p)\n",
    "    for r in batch_race:\n",
    "        race_list.append(r)\n",
    "    for a in batch_age:\n",
    "        age_list.append(a)        \n",
    "    for f in batch_file:\n",
    "        file_list.append(f)          "
   ]
  },
  {
   "cell_type": "code",
   "execution_count": 214,
   "metadata": {},
   "outputs": [],
   "source": [
    "gender_true = np.array(true_list).argmax(axis=-1)\n",
    "gender_pred = np.array(pred_list).argmax(axis=-1)\n",
    "races = np.array(race_list)\n",
    "ages = np.array(age_list)\n",
    "files = np.array(file_list)"
   ]
  },
  {
   "cell_type": "code",
   "execution_count": 215,
   "metadata": {},
   "outputs": [],
   "source": [
    "df_preds = pd.DataFrame(list(zip(races, gender_true, gender_pred, ages, files)), \n",
    "                        columns=['race','gender_true','gender_pred','age','file'])"
   ]
  },
  {
   "cell_type": "code",
   "execution_count": 216,
   "metadata": {},
   "outputs": [],
   "source": [
    "unique_races = df_preds['race'].unique()"
   ]
  },
  {
   "cell_type": "code",
   "execution_count": 217,
   "metadata": {},
   "outputs": [
    {
     "name": "stdout",
     "output_type": "stream",
     "text": [
      "\n",
      "Classification report for gender where race = white\n",
      "              precision    recall  f1-score   support\n",
      "\n",
      "           0       0.94      0.91      0.92       406\n",
      "           1       0.89      0.93      0.91       323\n",
      "\n",
      "   micro avg       0.92      0.92      0.92       729\n",
      "   macro avg       0.91      0.92      0.92       729\n",
      "weighted avg       0.92      0.92      0.92       729\n",
      "\n",
      "\n",
      "Classification report for gender where race = asian\n",
      "              precision    recall  f1-score   support\n",
      "\n",
      "           0       0.96      0.89      0.93        91\n",
      "           1       0.93      0.98      0.95       129\n",
      "\n",
      "   micro avg       0.94      0.94      0.94       220\n",
      "   macro avg       0.95      0.93      0.94       220\n",
      "weighted avg       0.94      0.94      0.94       220\n",
      "\n",
      "\n",
      "Classification report for gender where race = indian\n",
      "              precision    recall  f1-score   support\n",
      "\n",
      "           0       0.96      0.91      0.94       183\n",
      "           1       0.89      0.95      0.92       136\n",
      "\n",
      "   micro avg       0.93      0.93      0.93       319\n",
      "   macro avg       0.92      0.93      0.93       319\n",
      "weighted avg       0.93      0.93      0.93       319\n",
      "\n",
      "\n",
      "Classification report for gender where race = black\n",
      "              precision    recall  f1-score   support\n",
      "\n",
      "           0       0.93      0.88      0.90       201\n",
      "           1       0.89      0.93      0.91       200\n",
      "\n",
      "   micro avg       0.91      0.91      0.91       401\n",
      "   macro avg       0.91      0.91      0.91       401\n",
      "weighted avg       0.91      0.91      0.91       401\n",
      "\n",
      "\n",
      "Classification report for gender where race = others\n",
      "              precision    recall  f1-score   support\n",
      "\n",
      "           0       0.92      0.86      0.89        57\n",
      "           1       0.89      0.94      0.91        66\n",
      "\n",
      "   micro avg       0.90      0.90      0.90       123\n",
      "   macro avg       0.91      0.90      0.90       123\n",
      "weighted avg       0.90      0.90      0.90       123\n",
      "\n"
     ]
    }
   ],
   "source": [
    "for race in unique_races:  \n",
    "    print(\"\\nClassification report for gender where race = {}\".format(race))\n",
    "    print(classification_report(df_preds[df_preds['race'] == race]['gender_true'], \n",
    "                                df_preds[df_preds['race'] == race]['gender_pred']))"
   ]
  },
  {
   "cell_type": "code",
   "execution_count": null,
   "metadata": {},
   "outputs": [],
   "source": []
  }
 ],
 "metadata": {
  "kernelspec": {
   "display_name": "Python 3",
   "language": "python",
   "name": "python3"
  },
  "language_info": {
   "codemirror_mode": {
    "name": "ipython",
    "version": 2
   },
   "file_extension": ".py",
   "mimetype": "text/x-python",
   "name": "python",
   "nbconvert_exporter": "python",
   "pygments_lexer": "ipython2",
   "version": "2.7.15"
  }
 },
 "nbformat": 4,
 "nbformat_minor": 1
}
